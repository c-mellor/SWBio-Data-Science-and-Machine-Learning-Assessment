{
 "cells": [
  {
   "cell_type": "markdown",
   "metadata": {},
   "source": [
    "# Impedance Data Analysis"
   ]
  },
  {
   "cell_type": "markdown",
   "metadata": {},
   "source": [
    "### 1 - Import required libraries and data for analysis"
   ]
  },
  {
   "cell_type": "code",
   "execution_count": null,
   "metadata": {},
   "outputs": [],
   "source": [
    "#Import libraries\n",
    "import pandas as pd\n",
    "\n",
    "import matplotlib.pyplot as plt\n",
    "from matplotlib import cm\n",
    "from mpl_toolkits.mplot3d import Axes3D\n",
    "\n",
    "import numpy as np"
   ]
  },
  {
   "cell_type": "code",
   "execution_count": null,
   "metadata": {},
   "outputs": [],
   "source": [
    "#Read in the data\n",
    "transfer = pd.read_csv(\"transfer.csv\", header=None)"
   ]
  },
  {
   "cell_type": "markdown",
   "metadata": {},
   "source": [
    "### 2 - Initial data exploration"
   ]
  },
  {
   "cell_type": "code",
   "execution_count": null,
   "metadata": {
    "scrolled": false
   },
   "outputs": [],
   "source": [
    "#Check data is correct\n",
    "transfer.head"
   ]
  },
  {
   "cell_type": "code",
   "execution_count": null,
   "metadata": {
    "scrolled": true
   },
   "outputs": [],
   "source": [
    "#Sort dataframe by the 5 highest and lowest values for impedance difference\n",
    "transfer.sort_values(by=[2])"
   ]
  },
  {
   "cell_type": "code",
   "execution_count": null,
   "metadata": {},
   "outputs": [],
   "source": [
    "#Sort dataframe by the 10 lowest values for impedance difference\n",
    "transfer.sort_values(by=[2]).head(10)"
   ]
  },
  {
   "cell_type": "code",
   "execution_count": null,
   "metadata": {},
   "outputs": [],
   "source": [
    "#Sort dataframe by the 10 highest values for impedance difference\n",
    "transfer.sort_values(by=[2], ascending=False).head(10)"
   ]
  },
  {
   "cell_type": "markdown",
   "metadata": {},
   "source": [
    "### 3 - Plot data in two dimensions"
   ]
  },
  {
   "cell_type": "code",
   "execution_count": null,
   "metadata": {},
   "outputs": [],
   "source": [
    "#Select columns in dataframe for x and y axes to generate a 2D scatter graph, and specify graph design\n",
    "plt.scatter(transfer[0], transfer[2], color='blue', marker='.', linewidth=0.01)\n",
    "\n",
    "#Title graph and label axes\n",
    "plt.title('Scatter plot showing impedance difference against frequency')\n",
    "\n",
    "plt.xlabel('Frequency, kHz')\n",
    "plt.ylabel('Impedance difference')"
   ]
  },
  {
   "cell_type": "code",
   "execution_count": null,
   "metadata": {},
   "outputs": [],
   "source": [
    "#Select columns in dataframe for x and y axes to generate a 2D scatter graph, and specify graph design\n",
    "plt.scatter(transfer[1], transfer[2], color='blue', marker='.', linewidth=0.1)\n",
    "\n",
    "#Title graph and label axes\n",
    "plt.title('Scatter plot showing impedance difference against time')\n",
    "\n",
    "plt.xlabel('Time, minutes')\n",
    "plt.ylabel('Impedance difference')"
   ]
  },
  {
   "cell_type": "markdown",
   "metadata": {},
   "source": [
    "### 4 - Plot data in three dimensions"
   ]
  },
  {
   "cell_type": "code",
   "execution_count": null,
   "metadata": {},
   "outputs": [],
   "source": [
    "#Enable interactive plotting\n",
    "%matplotlib notebook"
   ]
  },
  {
   "cell_type": "code",
   "execution_count": null,
   "metadata": {},
   "outputs": [],
   "source": [
    "#Create figure and set up 3D axis\n",
    "fig = plt.figure()\n",
    "ax1 = plt.axes(projection='3d')\n",
    "\n",
    "#Select columns in dataframe for each axis on the graph using iloc\n",
    "X = transfer.iloc[:,0]\n",
    "Y = transfer.iloc[:,1]\n",
    "Z = transfer.iloc[:,2]\n",
    "\n",
    "#Generate triangular surface plot from XYZ vectors, specify colour e.g. heatmap style, specify T/F anti-aliasing\n",
    "ax1.plot_trisurf(X, Y, Z, \n",
    "                cmap = cm.coolwarm,\n",
    "                antialiased = True)\n",
    "\n",
    "#Title graph and label axes\n",
    "ax1.set_title('Trisurface plot of impedance difference against frequency and time')\n",
    "\n",
    "ax1.set_xlabel('Frequency, kHz')\n",
    "ax1.set_ylabel('Time, minutes')\n",
    "ax1.set_zlabel('Impedance difference')\n",
    "\n",
    "plt.show()"
   ]
  },
  {
   "cell_type": "code",
   "execution_count": null,
   "metadata": {
    "scrolled": false
   },
   "outputs": [],
   "source": [
    "#Create figure and set up 3D axis\n",
    "fig = plt.figure()\n",
    "ax2 = plt.axes(projection='3d')\n",
    "\n",
    "#Generate scatter plot using frequency, time, and impedance difference as xyz values\n",
    "#specify graph design e.g. colour, linewidth\n",
    "ax2.scatter(transfer[0], transfer[1], transfer[2], color='red', marker='.', linewidth=0.01)\n",
    "\n",
    "#Title graph and label axes\n",
    "ax2.set_title('3D scatter plot of impedance difference against frequency and time')\n",
    "\n",
    "ax2.set_xlabel('Frequency, kHz')\n",
    "ax2.set_ylabel('Time, minutes')\n",
    "ax2.set_zlabel('Impedance difference')\n",
    "\n",
    "plt.show()"
   ]
  },
  {
   "cell_type": "code",
   "execution_count": null,
   "metadata": {
    "scrolled": true
   },
   "outputs": [],
   "source": [
    "#Create figure and set up 3D axis\n",
    "fig = plt.figure()\n",
    "ax3 = plt.axes(projection='3d')\n",
    "\n",
    "#Select first two columns from dataframe for x and y axes; \n",
    "#z is centered at zero and its value is the size of impedance difference for each data point\n",
    "x3 = (transfer[0])\n",
    "y3 = (transfer[1])\n",
    "z3 = np.zeros(transfer[2].size)\n",
    "\n",
    "#Set limits of z axis so it doesn't start at 0\n",
    "ax3.set_zlim(-200,100)\n",
    "\n",
    "#Delta x and y values are 1 because this is the depth of the bars in the x and y directions for each data point in the array\n",
    "#the depth of the bar in the z direction is the size of the impedance difference\n",
    "dx = np.ones(transfer[0].size)\n",
    "dy = np.ones(transfer[1].size)\n",
    "dz = transfer[2] \n",
    "\n",
    "#Generate a 3D bar chart using the xyz values and their depths, also alter chart design if desired\n",
    "ax3.bar3d(x3, y3, z3, dx, dy, dz, color='blue')\n",
    "\n",
    "#Title graph and label axes\n",
    "ax3.set_title('3D bar chart of impedance difference against frequency and time')\n",
    "\n",
    "ax3.set_xlabel('Frequency, kHz')\n",
    "ax3.set_ylabel('Time, minutes')\n",
    "ax3.set_zlabel('Impedance difference')\n",
    "\n",
    "plt.show()"
   ]
  }
 ],
 "metadata": {
  "kernelspec": {
   "display_name": "Python 3",
   "language": "python",
   "name": "python3"
  },
  "language_info": {
   "codemirror_mode": {
    "name": "ipython",
    "version": 3
   },
   "file_extension": ".py",
   "mimetype": "text/x-python",
   "name": "python",
   "nbconvert_exporter": "python",
   "pygments_lexer": "ipython3",
   "version": "3.8.5"
  }
 },
 "nbformat": 4,
 "nbformat_minor": 4
}
